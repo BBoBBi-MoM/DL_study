{
 "cells": [
  {
   "cell_type": "code",
   "execution_count": 9,
   "metadata": {},
   "outputs": [],
   "source": [
    "import torch\n",
    "import torch.nn as nn\n",
    "from torchsummary import summary"
   ]
  },
  {
   "cell_type": "code",
   "execution_count": 10,
   "metadata": {},
   "outputs": [],
   "source": [
    "class AlexNet(nn.Module):\n",
    "    def __init__(self):\n",
    "        super(AlexNet,self).__init__()\n",
    "\n",
    "        self.conv_layer1 = nn.Sequential(\n",
    "            nn.Conv2d(in_channels=3,out_channels=96,kernel_size=11,stride=4),\n",
    "            nn.LocalResponseNorm(size=5,k=2),\n",
    "            nn.ReLU()\n",
    "        )\n",
    "        \n",
    "        self.sub_sampling_layer1 = nn.MaxPool2d(kernel_size=3,stride=2)\n",
    "\n",
    "        self.conv_layer2 = nn.Sequential(\n",
    "            nn.Conv2d(in_channels=96,out_channels=256,kernel_size=5,stride=1,padding=2),\n",
    "            nn.LocalResponseNorm(size=5,k=2),\n",
    "            nn.ReLU()\n",
    "        )\n",
    "\n",
    "        self.sub_sampling_layer2 = nn.MaxPool2d(kernel_size=3,stride=2)\n",
    "\n",
    "        self.conv_layer3 = nn.Sequential(\n",
    "            nn.Conv2d(in_channels=256,out_channels=384,kernel_size=3,stride=1,padding=1),\n",
    "            nn.LocalResponseNorm(size=5,k=2),\n",
    "            nn.ReLU()\n",
    "        )\n",
    "\n",
    "        self.conv_layer4 = nn.Sequential(\n",
    "            nn.Conv2d(in_channels=384,out_channels=384,kernel_size=3,stride=1,padding=1),\n",
    "            nn.LocalResponseNorm(size=5,k=2),\n",
    "            nn.ReLU()\n",
    "        )\n",
    "\n",
    "        self.conv_layer5 = nn.Sequential(\n",
    "            nn.Conv2d(in_channels=384,out_channels=256,kernel_size=3,stride=1,padding=1),\n",
    "            nn.LocalResponseNorm(size=5,k=2),\n",
    "            nn.ReLU()\n",
    "        )\n",
    "\n",
    "        self.sub_sampling_layer3 = nn.MaxPool2d(kernel_size=3,stride=2)\n",
    "        \n",
    "        self.avg_pool = nn.AdaptiveAvgPool2d(output_size=6)\n",
    "        \n",
    "        self.flatten = nn.Flatten()\n",
    "        \n",
    "        self.fc_layer1 = nn.Sequential(\n",
    "            nn.Linear(256*6*6,4096),\n",
    "            nn.ReLU(),\n",
    "            nn.Dropout(0.5)\n",
    "        )\n",
    "\n",
    "        self.fc_layer2 = nn.Sequential(\n",
    "            nn.Linear(4096,4096),\n",
    "            nn.ReLU(),\n",
    "            nn.Dropout(0.5)\n",
    "        )\n",
    "\n",
    "        self.fc_layer3 = nn.Sequential(\n",
    "            nn.Linear(4096,1000),\n",
    "            nn.Softmax(dim=-1)\n",
    "        )\n",
    "\n",
    "    def forward(self,x):\n",
    "        x = self.conv_layer1(x)\n",
    "        x = self.sub_sampling_layer1(x)\n",
    "        x = self.conv_layer2(x)\n",
    "        x = self.sub_sampling_layer2(x)\n",
    "        x = self.conv_layer3(x)\n",
    "        x = self.conv_layer4(x)\n",
    "        x = self.conv_layer5(x)\n",
    "        x = self.sub_sampling_layer3(x)\n",
    "        x = self.avg_pool(x)\n",
    "        x = self.flatten(x)\n",
    "        x = self.fc_layer1(x)\n",
    "        x = self.fc_layer2(x)\n",
    "        x = self.fc_layer3(x)\n",
    "        return x\n"
   ]
  },
  {
   "cell_type": "code",
   "execution_count": 11,
   "metadata": {},
   "outputs": [],
   "source": [
    "model = AlexNet()"
   ]
  },
  {
   "cell_type": "code",
   "execution_count": 12,
   "metadata": {},
   "outputs": [
    {
     "name": "stdout",
     "output_type": "stream",
     "text": [
      "----------------------------------------------------------------\n",
      "        Layer (type)               Output Shape         Param #\n",
      "================================================================\n",
      "            Conv2d-1           [-1, 96, 55, 55]          34,944\n",
      " LocalResponseNorm-2           [-1, 96, 55, 55]               0\n",
      "              ReLU-3           [-1, 96, 55, 55]               0\n",
      "         MaxPool2d-4           [-1, 96, 27, 27]               0\n",
      "            Conv2d-5          [-1, 256, 27, 27]         614,656\n",
      " LocalResponseNorm-6          [-1, 256, 27, 27]               0\n",
      "              ReLU-7          [-1, 256, 27, 27]               0\n",
      "         MaxPool2d-8          [-1, 256, 13, 13]               0\n",
      "            Conv2d-9          [-1, 384, 13, 13]         885,120\n",
      "LocalResponseNorm-10          [-1, 384, 13, 13]               0\n",
      "             ReLU-11          [-1, 384, 13, 13]               0\n",
      "           Conv2d-12          [-1, 384, 13, 13]       1,327,488\n",
      "LocalResponseNorm-13          [-1, 384, 13, 13]               0\n",
      "             ReLU-14          [-1, 384, 13, 13]               0\n",
      "           Conv2d-15          [-1, 256, 13, 13]         884,992\n",
      "LocalResponseNorm-16          [-1, 256, 13, 13]               0\n",
      "             ReLU-17          [-1, 256, 13, 13]               0\n",
      "        MaxPool2d-18            [-1, 256, 6, 6]               0\n",
      "AdaptiveAvgPool2d-19            [-1, 256, 6, 6]               0\n",
      "          Flatten-20                 [-1, 9216]               0\n",
      "           Linear-21                 [-1, 4096]      37,752,832\n",
      "             ReLU-22                 [-1, 4096]               0\n",
      "          Dropout-23                 [-1, 4096]               0\n",
      "           Linear-24                 [-1, 4096]      16,781,312\n",
      "             ReLU-25                 [-1, 4096]               0\n",
      "          Dropout-26                 [-1, 4096]               0\n",
      "           Linear-27                 [-1, 1000]       4,097,000\n",
      "          Softmax-28                 [-1, 1000]               0\n",
      "================================================================\n",
      "Total params: 62,378,344\n",
      "Trainable params: 62,378,344\n",
      "Non-trainable params: 0\n",
      "----------------------------------------------------------------\n",
      "Input size (MB): 0.61\n",
      "Forward/backward pass size (MB): 16.16\n",
      "Params size (MB): 237.95\n",
      "Estimated Total Size (MB): 254.72\n",
      "----------------------------------------------------------------\n"
     ]
    }
   ],
   "source": [
    "summary(model,(3,230,230))"
   ]
  },
  {
   "cell_type": "code",
   "execution_count": null,
   "metadata": {},
   "outputs": [],
   "source": []
  }
 ],
 "metadata": {
  "kernelspec": {
   "display_name": "dl",
   "language": "python",
   "name": "python3"
  },
  "language_info": {
   "codemirror_mode": {
    "name": "ipython",
    "version": 3
   },
   "file_extension": ".py",
   "mimetype": "text/x-python",
   "name": "python",
   "nbconvert_exporter": "python",
   "pygments_lexer": "ipython3",
   "version": "3.9.15"
  },
  "orig_nbformat": 4,
  "vscode": {
   "interpreter": {
    "hash": "c9ccd8639d7ac6d8ae46f08631d02de0d1c9f4a08850208985333be71082afd9"
   }
  }
 },
 "nbformat": 4,
 "nbformat_minor": 2
}
