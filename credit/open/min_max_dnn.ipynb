{
 "cells": [
  {
   "cell_type": "code",
   "execution_count": 330,
   "metadata": {},
   "outputs": [],
   "source": [
    "import pandas as pd\n",
    "import numpy as np\n",
    "import torch\n",
    "import torch.nn as nn\n",
    "from torch.utils.data import DataLoader, Dataset\n",
    "from tqdm.notebook import tqdm"
   ]
  },
  {
   "cell_type": "code",
   "execution_count": 331,
   "metadata": {},
   "outputs": [
    {
     "name": "stdout",
     "output_type": "stream",
     "text": [
      "USE CUDA: False\n",
      "CURRENT DEVICE: cpu\n"
     ]
    }
   ],
   "source": [
    "print('USE CUDA:',torch.cuda.is_available())\n",
    "device = torch.device('cuda:0' if torch.cuda.is_available() else 'cpu')\n",
    "print('CURRENT DEVICE:',device)"
   ]
  },
  {
   "cell_type": "code",
   "execution_count": 332,
   "metadata": {},
   "outputs": [],
   "source": [
    "batch_size = 64\n",
    "total_epoch = 100\n",
    "learning_rate = 1e-4"
   ]
  },
  {
   "cell_type": "code",
   "execution_count": 333,
   "metadata": {},
   "outputs": [],
   "source": [
    "df = pd.read_csv('min_max.csv')\n",
    "\n",
    "training_df = df.iloc[:int(len(df)*0.8),:] \n",
    "val_df = df.iloc[int(len(df)*0.8):,:]"
   ]
  },
  {
   "cell_type": "code",
   "execution_count": 334,
   "metadata": {},
   "outputs": [],
   "source": [
    "class CustomDataset(Dataset):\n",
    "    def __init__(self,df):\n",
    "        self.features = df.iloc[:,:-1].values\n",
    "        self.features = torch.FloatTensor(self.features)\n",
    "        self.labels = df.iloc[:,-1].values\n",
    "        self.labels = torch.LongTensor(self.labels)\n",
    "\n",
    "    def __len__(self):\n",
    "        return len(self.labels)\n",
    "    \n",
    "    def __getitem__(self,idx):\n",
    "        x = self.features[idx]\n",
    "        y = self.labels[idx]\n",
    "        return x,y"
   ]
  },
  {
   "cell_type": "code",
   "execution_count": 335,
   "metadata": {},
   "outputs": [],
   "source": [
    "training_dataset = CustomDataset(training_df)\n",
    "val_dataset = CustomDataset(val_df)\n",
    "\n",
    "train_loader = DataLoader(training_dataset,\n",
    "                          batch_size=batch_size,\n",
    "                          shuffle=True,\n",
    "                          drop_last=True)\n",
    "val_loader = DataLoader(val_dataset,batch_size=len(val_dataset))\n",
    "\n",
    "total_batch = len(train_loader)"
   ]
  },
  {
   "cell_type": "code",
   "execution_count": 336,
   "metadata": {},
   "outputs": [],
   "source": [
    "class DNN1(nn.Module):\n",
    "    def __init__(self):\n",
    "        super(DNN1,self).__init__()\n",
    "\n",
    "        self.layer1 = nn.Sequential(\n",
    "            nn.Linear(52,128),\n",
    "            nn.ReLU(),\n",
    "            nn.Dropout(0.2)\n",
    "        )\n",
    "\n",
    "        self.layer2 = nn.Sequential(\n",
    "            nn.Linear(128,256),\n",
    "            nn.ReLU(),\n",
    "            nn.Dropout(0.2)\n",
    "        )\n",
    "\n",
    "        self.layer3 = nn.Sequential(\n",
    "            nn.Linear(256,512),\n",
    "            nn.ReLU(),\n",
    "            nn.Dropout(0.2)\n",
    "        )\n",
    "\n",
    "        self.layer4 = nn.Sequential(\n",
    "            nn.Linear(512,256),\n",
    "            nn.ReLU(),\n",
    "            nn.Dropout(0.2)\n",
    "        )\n",
    "\n",
    "        self.layer5 = nn.Sequential(\n",
    "            nn.Linear(256,128),\n",
    "            nn.ReLU(),\n",
    "            nn.Dropout(0.2)\n",
    "        )\n",
    "\n",
    "        self.layer6 = nn.Sequential(\n",
    "            nn.Linear(128,64),\n",
    "            nn.ReLU(),\n",
    "            nn.Dropout(0.2)\n",
    "        )\n",
    "\n",
    "        self.layer7 = nn.Sequential(\n",
    "            nn.Linear(64,32),\n",
    "            nn.ReLU(),\n",
    "            nn.Dropout(0.2)\n",
    "        )\n",
    "\n",
    "        self.layer8 = nn.Sequential(\n",
    "            nn.Linear(32,3)\n",
    "        )\n",
    "\n",
    "    def forward(self,x):\n",
    "        out = self.layer1(x)\n",
    "        out = self.layer2(out)\n",
    "        out = self.layer3(out)\n",
    "        out = self.layer4(out)\n",
    "        out = self.layer5(out)\n",
    "        out = self.layer6(out)\n",
    "        out = self.layer7(out)\n",
    "        out = self.layer8(out)\n",
    "        return out"
   ]
  },
  {
   "cell_type": "code",
   "execution_count": 337,
   "metadata": {},
   "outputs": [],
   "source": [
    "class DNN2(nn.Module):\n",
    "    def __init__(self):\n",
    "        super(DNN2,self).__init__()\n",
    "\n",
    "        self.layer1 = nn.Sequential(\n",
    "            nn.Linear(52,512),\n",
    "            nn.ReLU(),\n",
    "            nn.Dropout(0.5)\n",
    "        )\n",
    "\n",
    "        self.layer2 = nn.Sequential(\n",
    "            nn.Linear(512,512),\n",
    "            nn.ReLU(),\n",
    "            nn.Dropout(0.5)\n",
    "        )\n",
    "\n",
    "        self.layer3 = nn.Sequential(\n",
    "            nn.Linear(512,512),\n",
    "            nn.ReLU(),\n",
    "            nn.Dropout(0.5)\n",
    "        )\n",
    "\n",
    "        self.layer4 = nn.Sequential(\n",
    "            nn.Linear(512,3)\n",
    "        )\n",
    "\n",
    "\n",
    "    def forward(self,x):\n",
    "        out = self.layer1(x)\n",
    "        out = self.layer2(out)\n",
    "        out = self.layer3(out)\n",
    "        out = self.layer4(out)\n",
    "        return out\n"
   ]
  },
  {
   "cell_type": "code",
   "execution_count": 338,
   "metadata": {},
   "outputs": [],
   "source": [
    "total_epoch = 100\n",
    "learning_rate = 1e-3\n"
   ]
  },
  {
   "cell_type": "code",
   "execution_count": 339,
   "metadata": {},
   "outputs": [],
   "source": [
    "model = DNN2().to(device)\n",
    "\n",
    "loss_function = nn.CrossEntropyLoss()\n",
    "optimizer = torch.optim.Adam(model.parameters(),lr = learning_rate)\n",
    "\n",
    "old_val_accuracy = -1"
   ]
  },
  {
   "cell_type": "code",
   "execution_count": 340,
   "metadata": {},
   "outputs": [
    {
     "name": "stdout",
     "output_type": "stream",
     "text": [
      "----------------------------------------Start learning!----------------------------------------\n"
     ]
    },
    {
     "data": {
      "application/vnd.jupyter.widget-view+json": {
       "model_id": "c4a16555afd34f6093315cd261788b3f",
       "version_major": 2,
       "version_minor": 0
      },
      "text/plain": [
       "  0%|          | 0/100 [00:00<?, ?it/s]"
      ]
     },
     "metadata": {},
     "output_type": "display_data"
    },
    {
     "name": "stdout",
     "output_type": "stream",
     "text": [
      "[EPOCH:   0/100] [LOSS: 0.884307] [ACCURACY: 64.308712%] [VAL_ACCURACY: 63.265305]\n",
      "[EPOCH:  10/100] [LOSS: 0.803309] [ACCURACY: 68.740530%] [VAL_ACCURACY: 67.517006]\n",
      "[EPOCH:  20/100] [LOSS: 0.757792] [ACCURACY: 70.440341%] [VAL_ACCURACY: 68.102798]\n",
      "[EPOCH:  30/100] [LOSS: 0.730007] [ACCURACY: 71.212121%] [VAL_ACCURACY: 68.216171]\n",
      "[EPOCH:  40/100] [LOSS: 0.715761] [ACCURACY: 71.543561%] [VAL_ACCURACY: 69.066513]\n",
      "[EPOCH:  50/100] [LOSS: 0.695313] [ACCURACY: 72.225379%] [VAL_ACCURACY: 69.009827]\n",
      "[EPOCH:  60/100] [LOSS: 0.681989] [ACCURACY: 72.646780%] [VAL_ACCURACY: 68.707481]\n",
      "[EPOCH:  70/100] [LOSS: 0.670357] [ACCURACY: 73.001894%] [VAL_ACCURACY: 69.255478]\n",
      "[EPOCH:  80/100] [LOSS: 0.660249] [ACCURACY: 73.139205%] [VAL_ACCURACY: 68.972031]\n",
      "[EPOCH:  90/100] [LOSS: 0.657412] [ACCURACY: 73.683712%] [VAL_ACCURACY: 68.934235]\n",
      "----------------------------------------learning finished!----------------------------------------\n"
     ]
    }
   ],
   "source": [
    "print('-'*40+'Start learning!'+'-'*40)\n",
    "for epoch in tqdm(range(total_epoch)):\n",
    "    epoch_avg_loss = 0.0\n",
    "    epoch_accuracy_count = 0\n",
    "    for num,data in enumerate(train_loader):\n",
    "        optimizer.zero_grad()\n",
    "        feature_vec, labels = data\n",
    "        \n",
    "        feature_vecs = feature_vec.to(device)\n",
    "        labels = labels.to(device)\n",
    "        \n",
    "        output = model(feature_vecs)\n",
    "        loss =  loss_function(output,labels)\n",
    "\n",
    "        epoch_accuracy_count += (labels==output.argmax(dim=-1)).sum().item()  #미니배치에서의 정답 개수\n",
    "        epoch_avg_loss += (loss/total_batch)\n",
    "\n",
    "        loss.backward()\n",
    "        optimizer.step()\n",
    "    \n",
    "    epoch_accuracy_rate = epoch_accuracy_count/(len(train_loader)*batch_size)*100\n",
    "\n",
    "    if epoch%10 == 0:\n",
    "        \n",
    "        \n",
    "        model.eval()\n",
    "        with torch.no_grad():\n",
    "            for val_num,val_data in enumerate(val_loader):\n",
    "                val_features ,val_labels = val_data\n",
    "                val_features = val_features.to(device)\n",
    "                val_labels = val_labels.to(device)\n",
    "                \n",
    "                val_output = model(val_features)\n",
    "                val_accracy_count = (val_output.argmax(dim=-1)==val_labels).sum()\n",
    "\n",
    "                val_accracy_rate = val_accracy_count/len(val_dataset)*100\n",
    "        model.train()\n",
    "        \n",
    "        print(f'[EPOCH: {str(epoch).rjust(3)}/{total_epoch}] [LOSS: {epoch_avg_loss:5f}] [ACCURACY: {epoch_accuracy_rate:2f}%] [VAL_ACCURACY: {val_accracy_rate:2f}]')    \n",
    "print('-'*40+'learning finished!'+'-'*40)"
   ]
  },
  {
   "cell_type": "code",
   "execution_count": 341,
   "metadata": {},
   "outputs": [
    {
     "name": "stdout",
     "output_type": "stream",
     "text": [
      "tensor([2, 2, 2,  ..., 2, 2, 2])\n"
     ]
    }
   ],
   "source": [
    "print(val_output.argmax(dim=-1))"
   ]
  },
  {
   "cell_type": "code",
   "execution_count": null,
   "metadata": {},
   "outputs": [],
   "source": []
  }
 ],
 "metadata": {
  "kernelspec": {
   "display_name": "dl",
   "language": "python",
   "name": "python3"
  },
  "language_info": {
   "codemirror_mode": {
    "name": "ipython",
    "version": 3
   },
   "file_extension": ".py",
   "mimetype": "text/x-python",
   "name": "python",
   "nbconvert_exporter": "python",
   "pygments_lexer": "ipython3",
   "version": "3.9.15"
  },
  "orig_nbformat": 4,
  "vscode": {
   "interpreter": {
    "hash": "c9ccd8639d7ac6d8ae46f08631d02de0d1c9f4a08850208985333be71082afd9"
   }
  }
 },
 "nbformat": 4,
 "nbformat_minor": 2
}
