{
 "cells": [
  {
   "cell_type": "code",
   "execution_count": null,
   "metadata": {},
   "outputs": [],
   "source": [
    "import numpy as np\n",
    "import matplotlib.pyplot as plt\n",
    "from tqdm.notebook import tqdm\n",
    "\n",
    "import torch\n",
    "import torch.nn as nn\n",
    "from torch.utils.data import Dataset,DataLoader\n",
    "\n",
    "import torchvision\n",
    "import torchvision.transforms as transforms\n",
    "from torchsummary import summary"
   ]
  },
  {
   "cell_type": "code",
   "execution_count": null,
   "metadata": {},
   "outputs": [],
   "source": [
    "device = torch.device('cuda:0' if torch.cuda.is_available() else 'cpu')\n",
    "print('DEVICE:',device)\n",
    "print('USE CUDA:',torch.cuda.is_available())"
   ]
  },
  {
   "cell_type": "code",
   "execution_count": null,
   "metadata": {},
   "outputs": [],
   "source": [
    "trans = transforms.Compose([transforms.ToTensor(),\n",
    "                            transforms.Normalize((0.5),(0.5))\n",
    "                            ])"
   ]
  },
  {
   "cell_type": "code",
   "execution_count": null,
   "metadata": {},
   "outputs": [],
   "source": [
    "train_dataset = torchvision.datasets.FashionMNIST(root=r'C:\\Users\\Administrator\\Desktop\\Dataset',\n",
    "                                                  download=True,\n",
    "                                                  transform=trans,\n",
    "                                                  train=True)\n",
    "val_dataset = torchvision.datasets.FashionMNIST(root=r'C:\\Users\\Administrator\\Desktop\\Dataset',\n",
    "                                                 download=True,\n",
    "                                                 transform=trans,\n",
    "                                                 train=False)"
   ]
  },
  {
   "cell_type": "code",
   "execution_count": null,
   "metadata": {},
   "outputs": [],
   "source": [
    "train_loader = DataLoader(dataset=train_dataset,\n",
    "                          batch_size=128,\n",
    "                          shuffle=True,\n",
    "                          drop_last=True)\n",
    "val_loader = DataLoader(dataset=val_dataset,\n",
    "                          batch_size=len(val_dataset))\n"
   ]
  },
  {
   "cell_type": "code",
   "execution_count": null,
   "metadata": {},
   "outputs": [],
   "source": [
    "label_dict = {0:'T-shirt',1:'Trouser',2:'Pullover',3:'Dress',4:'Coat',5:'Sandal',\n",
    "              6:'Shirt',7:'Sneaker',8:'Bag',9:'Ankle Boot'}\n",
    "\n",
    "fig = plt.figure(figsize=(8,8))\n",
    "\n",
    "columns = 4\n",
    "rows = 5\n",
    "\n",
    "for i in range(1,columns*rows+1):\n",
    "    img_xy = np.random.randint(len(train_dataset))\n",
    "    img = train_dataset[img_xy][0][0]\n",
    "    fig.add_subplot(rows,columns,i)\n",
    "    plt.title(label_dict[train_dataset[img_xy][1]])\n",
    "    plt.axis('off')\n",
    "    plt.imshow(img,cmap='magma')\n",
    "plt.show()"
   ]
  },
  {
   "cell_type": "code",
   "execution_count": null,
   "metadata": {},
   "outputs": [],
   "source": [
    "class FashionDNN(nn.Module):\n",
    "    def __init__(self):\n",
    "        super(FashionDNN,self).__init__()\n",
    "\n",
    "        self.fc1 = nn.Linear(in_features=28*28,out_features=1024)\n",
    "        self.drop1 = nn.Dropout(0.25)\n",
    "        self.fc2 = nn.Linear(in_features=1024,out_features=256)\n",
    "        self.fc3 = nn.Linear(in_features=256,out_features=10)\n",
    "\n",
    "    def forward(self,x):\n",
    "        out = x.view(-1,28*28)\n",
    "        out = self.fc1(out)\n",
    "        out = nn.functional.relu(out)\n",
    "        out = self.fc2(out)\n",
    "        out = nn.functional.relu(out)\n",
    "        out = self.fc3(out)\n",
    "        return out"
   ]
  },
  {
   "cell_type": "code",
   "execution_count": null,
   "metadata": {},
   "outputs": [],
   "source": [
    "class FashionCNN(nn.Module):\n",
    "    def __init__(self):\n",
    "        super(FashionCNN,self).__init__()\n",
    "\n",
    "        self.conv_layer1 = nn.Sequential(\n",
    "            nn.Conv2d(in_channels=1,out_channels=32,kernel_size=3,padding=1),\n",
    "            nn.BatchNorm2d(32),\n",
    "            nn.ReLU(),\n",
    "            nn.MaxPool2d(kernel_size=2,stride=2)\n",
    "        )\n",
    "\n",
    "        self.conv_layer2 = nn.Sequential(\n",
    "            nn.Conv2d(in_channels=32,out_channels=64,kernel_size=3,padding=1),\n",
    "            nn.BatchNorm2d(64),\n",
    "            nn.ReLU(),\n",
    "            nn.MaxPool2d(kernel_size=2)\n",
    "        )\n",
    "\n",
    "        self.conv_layer3 = nn.Sequential(\n",
    "            nn.Conv2d(in_channels=64,out_channels=32,kernel_size=3,padding=1),\n",
    "            nn.BatchNorm2d(32),\n",
    "            nn.ReLU(),\n",
    "            nn.MaxPool2d(kernel_size=2)\n",
    "        )\n",
    "\n",
    "        self.fc_layer1 = nn.Linear(288,512)\n",
    "        self.drop1 = nn.Dropout(0.2)\n",
    "        self.fc_layer2 = nn.Linear(512,256)\n",
    "        self.drop2 = nn.Dropout(0.2)\n",
    "        self.fc_layer3 = nn.Linear(256,10)\n",
    "\n",
    "    def forward(self,x):\n",
    "        out = self.conv_layer1(x)\n",
    "        out = self.conv_layer2(out)\n",
    "        out = self.conv_layer3(out)\n",
    "        out = out.view(out.size(0),-1)\n",
    "        out = self.fc_layer1(out)\n",
    "        out = self.drop1(out)\n",
    "        out = self.fc_layer2(out)\n",
    "        out = self.drop2(out)\n",
    "        out = self.fc_layer3(out)\n",
    "        \n",
    "        return out\n"
   ]
  },
  {
   "cell_type": "code",
   "execution_count": null,
   "metadata": {},
   "outputs": [],
   "source": [
    "model = FashionDNN().to(device)\n",
    "#model = FashionCNN().to(device)\n",
    "\n",
    "total_epoch = 5\n",
    "learning_rate = 1e-3\n",
    "batch_size = 128\n",
    "total_batch = len(train_loader)\n",
    "\n",
    "loss_function = nn.CrossEntropyLoss()\n",
    "optimizer = torch.optim.Adam(model.parameters(),lr=learning_rate)"
   ]
  },
  {
   "cell_type": "code",
   "execution_count": null,
   "metadata": {},
   "outputs": [],
   "source": [
    "print('-'*40+f' {type(model).__name__} LEARNING START '+'-'*40)\n",
    "for epoch in tqdm(range(total_epoch)):\n",
    "    epoch_avg_loss = 0.0\n",
    "    epoch_accuracy_count = 0\n",
    "    \n",
    "    for data in tqdm(train_loader):\n",
    "        optimizer.zero_grad()\n",
    "        imgs, labels = data\n",
    "        imgs, labels = imgs.to(device), labels.to(device)\n",
    "\n",
    "        outputs = model(imgs)\n",
    "        loss = loss_function(outputs,labels)\n",
    "\n",
    "        batch_accuracy_count = sum(outputs.argmax(dim=-1)==labels).item()\n",
    "        epoch_accuracy_count += batch_accuracy_count\n",
    "\n",
    "        epoch_avg_loss += (loss/ total_batch).item()\n",
    "\n",
    "        loss.backward()\n",
    "        optimizer.step()\n",
    "    epoch_accuracy_rate = epoch_accuracy_count/(batch_size*total_batch)*100\n",
    "    model.eval()\n",
    "    with torch.no_grad():\n",
    "        for data in val_loader:\n",
    "            val_imgs, val_labels = data\n",
    "            val_imgs, val_labels = val_imgs.to(device), val_labels.to(device)\n",
    "            val_outputs = model(val_imgs)\n",
    "            val_loss = loss_function(val_outputs,val_labels)\n",
    "            val_accuracy_count = (val_outputs.argmax(dim=-1) == val_labels).sum().item()\n",
    "            val_accuracy_rate = val_accuracy_count/len(val_labels)*100\n",
    "    model.train()\n",
    "    print(f'[EPOCH: {epoch+1}/{total_epoch}] [LOSS: {loss:5f}] [ACCURACY: {epoch_accuracy_rate:2f}%] [VAL_LOSS: {val_loss:5f}] [VAL_ACCURACY: {val_accuracy_rate:2f}%]')\n",
    "\n",
    "\n",
    "print('-'*40+f' {type(model).__name__} LEARNING FINISH '+'-'*40)\n"
   ]
  },
  {
   "cell_type": "code",
   "execution_count": null,
   "metadata": {},
   "outputs": [],
   "source": []
  }
 ],
 "metadata": {
  "kernelspec": {
   "display_name": "dl",
   "language": "python",
   "name": "python3"
  },
  "language_info": {
   "codemirror_mode": {
    "name": "ipython",
    "version": 3
   },
   "file_extension": ".py",
   "mimetype": "text/x-python",
   "name": "python",
   "nbconvert_exporter": "python",
   "pygments_lexer": "ipython3",
   "version": "3.9.15"
  },
  "orig_nbformat": 4,
  "vscode": {
   "interpreter": {
    "hash": "c9ccd8639d7ac6d8ae46f08631d02de0d1c9f4a08850208985333be71082afd9"
   }
  }
 },
 "nbformat": 4,
 "nbformat_minor": 2
}
