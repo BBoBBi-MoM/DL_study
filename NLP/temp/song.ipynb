{
 "cells": [
  {
   "cell_type": "code",
   "execution_count": 1,
   "metadata": {},
   "outputs": [],
   "source": [
    "import nlpk\n",
    "import torchtext"
   ]
  },
  {
   "cell_type": "code",
   "execution_count": 3,
   "metadata": {},
   "outputs": [],
   "source": [
    "song_text = '''Last Christmas I gave you my heart\n",
    "But the very next day you gave it away\n",
    "This year, to save me from tears\n",
    "I'll give it to someone special\n",
    "Last Christmas I gave you my heart\n",
    "But the very next day you gave it away\n",
    "This year, to save me from tears\n",
    "I'll give it to someone special\n",
    "Once bitten and twice shy\n",
    "I keep my distance, but you still catch my eye\n",
    "Tell me baby, do you recognize me?\n",
    "Well, it's been a year, it doesn't surprise me\n",
    "Happy Christmas, I wrapped it up and sent it\n",
    "With a note saying \"I love you\", I meant it\n",
    "Now I know what a fool I've been\n",
    "But if you kissed me now, I know you'd fool me again\n",
    "Last Christmas I gave you my heart\n",
    "But the very next day you gave it away\n",
    "This year, to save me from tears\n",
    "I'll give it to someone special\n",
    "Last Christmas I gave you my heart\n",
    "But the very next day you gave it away\n",
    "This year, to save me from tears\n",
    "I'll give it to someone special\n",
    "Ooh\n",
    "Oh, oh, baby\n",
    "A crowded room, friends with tired eyes\n",
    "I'm hiding from you and your soul of ice\n",
    "My God, I thought you were someone to rely on\n",
    "Me? I guess I was a shoulder to cry on\n",
    "A face on a lover with a fire in his heart\n",
    "A man under cover, but you tore me apart\n",
    "Oh, oh now I've found a real love\n",
    "You'll never fool me again\n",
    "Last Christmas I gave you my heart\n",
    "But the very next day you gave it away\n",
    "This year, to save me from tears\n",
    "I'll give it to someone special, special\n",
    "Last Christmas I gave you my heart\n",
    "But the very next day you gave it away\n",
    "This year, to save me from tears\n",
    "I'll give it to someone special\n",
    "Special\n",
    "A face on a lover with a fire in his heart (I gave you mine)\n",
    "A man under cover but you tore him apart\n",
    "Maybe next year I'll give it to someone\n",
    "I'll give it to someone special\n",
    "Special\n",
    "So long'''"
   ]
  },
  {
   "cell_type": "code",
   "execution_count": 5,
   "metadata": {},
   "outputs": [],
   "source": [
    "song_text=song_text.split('\\n')"
   ]
  },
  {
   "cell_type": "code",
   "execution_count": null,
   "metadata": {},
   "outputs": [],
   "source": [
    "for line in song_text:\n",
    "    text"
   ]
  }
 ],
 "metadata": {
  "kernelspec": {
   "display_name": "nlp",
   "language": "python",
   "name": "python3"
  },
  "language_info": {
   "codemirror_mode": {
    "name": "ipython",
    "version": 3
   },
   "file_extension": ".py",
   "mimetype": "text/x-python",
   "name": "python",
   "nbconvert_exporter": "python",
   "pygments_lexer": "ipython3",
   "version": "3.9.16"
  },
  "orig_nbformat": 4,
  "vscode": {
   "interpreter": {
    "hash": "98e2bfb919ff5917b98b90a86d4547b4b7593f6b54c8d2e707cb1748df7f4086"
   }
  }
 },
 "nbformat": 4,
 "nbformat_minor": 2
}
