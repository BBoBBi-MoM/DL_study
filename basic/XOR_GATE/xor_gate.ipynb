{
 "cells": [
  {
   "cell_type": "code",
   "execution_count": null,
   "metadata": {},
   "outputs": [],
   "source": [
    "'''\n",
    "라이브러리 불러오기\n",
    "'''\n",
    "import torch     #파이토치 임포트\n",
    "import torch.nn as nn # nn:신경망과 관련된 모듈"
   ]
  },
  {
   "cell_type": "code",
   "execution_count": null,
   "metadata": {},
   "outputs": [],
   "source": [
    "'''\n",
    "디바이스 설정. (cpu 사용자에게 필수적인 과정은 아닙니다.)\n",
    "'''\n",
    "device = torch.device('cuda:0' if torch.cuda.is_available() else 'cpu') # cpu 사용자일 경우 device == 'cpu', gpu 사용자일 경우 device = 'cuda:0'\n",
    "print('DEVICE:',device)"
   ]
  },
  {
   "cell_type": "code",
   "execution_count": null,
   "metadata": {},
   "outputs": [],
   "source": [
    "'''\n",
    "input값 label값 설정\n",
    "'''\n",
    "X = torch.Tensor([]).to(device)\n",
    "Y = torch.Tensor([]).to(device)"
   ]
  },
  {
   "cell_type": "code",
   "execution_count": null,
   "metadata": {},
   "outputs": [],
   "source": [
    "'''\n",
    "모델 클래스 정의\n",
    "'''\n",
    "\n",
    "class Network(nn.Module):\n",
    "    def __init__(self):\n",
    "        super(Network,self).__init__()\n",
    "\n",
    "        self.layer1 = nn.Sequential(\n",
    "            nn.Linear(in_features=None,out_features=None,bias=True),\n",
    "            nn.Sigmoid()\n",
    "        )\n",
    "\n",
    "        self.layer2 = nn.Sequential(\n",
    "            nn.Linear(in_features=None,out_features=None,bias=True),\n",
    "            nn.Sigmoid()\n",
    "        )\n",
    "\n",
    "        self.layer3 = nn.Sequential(\n",
    "            nn.Linear(in_features=None,out_features=None,bias=True),\n",
    "            nn.Sigmoid()\n",
    "        )\n",
    "\n",
    "    def forword(self,x):\n",
    "        out = self.layer1(x)\n",
    "        out = self.layer2(out)\n",
    "        out = self.layer3(out)\n",
    "        return out"
   ]
  },
  {
   "cell_type": "code",
   "execution_count": null,
   "metadata": {},
   "outputs": [],
   "source": [
    "'''\n",
    "하이퍼 파라미터, 손실함수,옵티마이저 정의\n",
    "\n",
    "'''\n",
    "model = None\n",
    "total_epoch = None\n",
    "\n",
    "loss_function = None\n",
    "optimizer = None"
   ]
  },
  {
   "cell_type": "code",
   "execution_count": null,
   "metadata": {},
   "outputs": [],
   "source": [
    "'''\n",
    "학습단계\n",
    "'''\n",
    "for epoch in range(total_epoch):\n",
    "\n",
    "    optimizer.zero_grad()\n",
    "\n",
    "    hypothesis = model(X)\n",
    "    loss = loss_function(None,None)\n",
    "\n",
    "    loss.backward()\n",
    "    optimizer.step()\n",
    "\n",
    "    if epoch%1000 == 0:\n",
    "        print(f'{epoch}/{total_epoch}, Loss:{loss.item()}')  "
   ]
  }
 ],
 "metadata": {
  "kernelspec": {
   "display_name": "dl",
   "language": "python",
   "name": "python3"
  },
  "language_info": {
   "name": "python",
   "version": "3.9.15"
  },
  "orig_nbformat": 4,
  "vscode": {
   "interpreter": {
    "hash": "c9ccd8639d7ac6d8ae46f08631d02de0d1c9f4a08850208985333be71082afd9"
   }
  }
 },
 "nbformat": 4,
 "nbformat_minor": 2
}
